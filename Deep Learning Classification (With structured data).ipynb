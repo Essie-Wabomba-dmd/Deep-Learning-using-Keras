{
 "cells": [
  {
   "cell_type": "markdown",
   "id": "a97b2b5b",
   "metadata": {},
   "source": [
    "# Deep Learning Using Keras\n",
    "\n",
    "This is my first deep learning model as part of being a data science entuasist. \n",
    "It demonstrates the core deep learning model building concepts using the Keras library. The Iris flower dataset is used to build the model and perform classification tasks"
   ]
  },
  {
   "cell_type": "code",
   "execution_count": 84,
   "id": "1d7126d4",
   "metadata": {},
   "outputs": [
    {
     "name": "stdout",
     "output_type": "stream",
     "text": [
      "Requirement already satisfied: pandas in c:\\users\\wabo914\\appdata\\local\\anaconda3\\lib\\site-packages (1.5.3)\n",
      "Requirement already satisfied: pytz>=2020.1 in c:\\users\\wabo914\\appdata\\local\\anaconda3\\lib\\site-packages (from pandas) (2022.7)\n",
      "Requirement already satisfied: python-dateutil>=2.8.1 in c:\\users\\wabo914\\appdata\\local\\anaconda3\\lib\\site-packages (from pandas) (2.8.2)\n",
      "Requirement already satisfied: numpy>=1.21.0 in c:\\users\\wabo914\\appdata\\local\\anaconda3\\lib\\site-packages (from pandas) (1.23.5)\n",
      "Requirement already satisfied: six>=1.5 in c:\\users\\wabo914\\appdata\\local\\anaconda3\\lib\\site-packages (from python-dateutil>=2.8.1->pandas) (1.16.0)\n",
      "Requirement already satisfied: tensorflow in c:\\users\\wabo914\\appdata\\local\\anaconda3\\lib\\site-packages (2.14.0)\n",
      "Requirement already satisfied: tensorflow-intel==2.14.0 in c:\\users\\wabo914\\appdata\\local\\anaconda3\\lib\\site-packages (from tensorflow) (2.14.0)\n",
      "Requirement already satisfied: ml-dtypes==0.2.0 in c:\\users\\wabo914\\appdata\\local\\anaconda3\\lib\\site-packages (from tensorflow-intel==2.14.0->tensorflow) (0.2.0)\n",
      "Requirement already satisfied: h5py>=2.9.0 in c:\\users\\wabo914\\appdata\\local\\anaconda3\\lib\\site-packages (from tensorflow-intel==2.14.0->tensorflow) (3.7.0)\n",
      "Requirement already satisfied: tensorflow-io-gcs-filesystem>=0.23.1 in c:\\users\\wabo914\\appdata\\local\\anaconda3\\lib\\site-packages (from tensorflow-intel==2.14.0->tensorflow) (0.31.0)\n",
      "Requirement already satisfied: setuptools in c:\\users\\wabo914\\appdata\\local\\anaconda3\\lib\\site-packages (from tensorflow-intel==2.14.0->tensorflow) (65.6.3)\n",
      "Requirement already satisfied: astunparse>=1.6.0 in c:\\users\\wabo914\\appdata\\local\\anaconda3\\lib\\site-packages (from tensorflow-intel==2.14.0->tensorflow) (1.6.3)\n",
      "Requirement already satisfied: typing-extensions>=3.6.6 in c:\\users\\wabo914\\appdata\\local\\anaconda3\\lib\\site-packages (from tensorflow-intel==2.14.0->tensorflow) (4.4.0)\n",
      "Requirement already satisfied: libclang>=13.0.0 in c:\\users\\wabo914\\appdata\\local\\anaconda3\\lib\\site-packages (from tensorflow-intel==2.14.0->tensorflow) (16.0.6)\n",
      "Requirement already satisfied: termcolor>=1.1.0 in c:\\users\\wabo914\\appdata\\local\\anaconda3\\lib\\site-packages (from tensorflow-intel==2.14.0->tensorflow) (2.3.0)\n",
      "Requirement already satisfied: flatbuffers>=23.5.26 in c:\\users\\wabo914\\appdata\\local\\anaconda3\\lib\\site-packages (from tensorflow-intel==2.14.0->tensorflow) (23.5.26)\n",
      "Requirement already satisfied: tensorboard<2.15,>=2.14 in c:\\users\\wabo914\\appdata\\local\\anaconda3\\lib\\site-packages (from tensorflow-intel==2.14.0->tensorflow) (2.14.1)\n",
      "Requirement already satisfied: keras<2.15,>=2.14.0 in c:\\users\\wabo914\\appdata\\local\\anaconda3\\lib\\site-packages (from tensorflow-intel==2.14.0->tensorflow) (2.14.0)\n",
      "Requirement already satisfied: wrapt<1.15,>=1.11.0 in c:\\users\\wabo914\\appdata\\local\\anaconda3\\lib\\site-packages (from tensorflow-intel==2.14.0->tensorflow) (1.14.1)\n",
      "Requirement already satisfied: six>=1.12.0 in c:\\users\\wabo914\\appdata\\local\\anaconda3\\lib\\site-packages (from tensorflow-intel==2.14.0->tensorflow) (1.16.0)\n",
      "Requirement already satisfied: numpy>=1.23.5 in c:\\users\\wabo914\\appdata\\local\\anaconda3\\lib\\site-packages (from tensorflow-intel==2.14.0->tensorflow) (1.23.5)\n",
      "Requirement already satisfied: tensorflow-estimator<2.15,>=2.14.0 in c:\\users\\wabo914\\appdata\\local\\anaconda3\\lib\\site-packages (from tensorflow-intel==2.14.0->tensorflow) (2.14.0)\n",
      "Requirement already satisfied: google-pasta>=0.1.1 in c:\\users\\wabo914\\appdata\\local\\anaconda3\\lib\\site-packages (from tensorflow-intel==2.14.0->tensorflow) (0.2.0)\n",
      "Requirement already satisfied: gast!=0.5.0,!=0.5.1,!=0.5.2,>=0.2.1 in c:\\users\\wabo914\\appdata\\local\\anaconda3\\lib\\site-packages (from tensorflow-intel==2.14.0->tensorflow) (0.5.4)\n",
      "Requirement already satisfied: opt-einsum>=2.3.2 in c:\\users\\wabo914\\appdata\\local\\anaconda3\\lib\\site-packages (from tensorflow-intel==2.14.0->tensorflow) (3.3.0)\n",
      "Requirement already satisfied: grpcio<2.0,>=1.24.3 in c:\\users\\wabo914\\appdata\\local\\anaconda3\\lib\\site-packages (from tensorflow-intel==2.14.0->tensorflow) (1.58.0)\n",
      "Requirement already satisfied: protobuf!=4.21.0,!=4.21.1,!=4.21.2,!=4.21.3,!=4.21.4,!=4.21.5,<5.0.0dev,>=3.20.3 in c:\\users\\wabo914\\appdata\\local\\anaconda3\\lib\\site-packages (from tensorflow-intel==2.14.0->tensorflow) (4.24.3)\n",
      "Requirement already satisfied: absl-py>=1.0.0 in c:\\users\\wabo914\\appdata\\local\\anaconda3\\lib\\site-packages (from tensorflow-intel==2.14.0->tensorflow) (2.0.0)\n",
      "Requirement already satisfied: packaging in c:\\users\\wabo914\\appdata\\local\\anaconda3\\lib\\site-packages (from tensorflow-intel==2.14.0->tensorflow) (22.0)\n",
      "Requirement already satisfied: wheel<1.0,>=0.23.0 in c:\\users\\wabo914\\appdata\\local\\anaconda3\\lib\\site-packages (from astunparse>=1.6.0->tensorflow-intel==2.14.0->tensorflow) (0.38.4)\n",
      "Requirement already satisfied: markdown>=2.6.8 in c:\\users\\wabo914\\appdata\\local\\anaconda3\\lib\\site-packages (from tensorboard<2.15,>=2.14->tensorflow-intel==2.14.0->tensorflow) (3.4.1)\n",
      "Requirement already satisfied: google-auth-oauthlib<1.1,>=0.5 in c:\\users\\wabo914\\appdata\\local\\anaconda3\\lib\\site-packages (from tensorboard<2.15,>=2.14->tensorflow-intel==2.14.0->tensorflow) (1.0.0)\n",
      "Requirement already satisfied: tensorboard-data-server<0.8.0,>=0.7.0 in c:\\users\\wabo914\\appdata\\local\\anaconda3\\lib\\site-packages (from tensorboard<2.15,>=2.14->tensorflow-intel==2.14.0->tensorflow) (0.7.1)\n",
      "Requirement already satisfied: requests<3,>=2.21.0 in c:\\users\\wabo914\\appdata\\local\\anaconda3\\lib\\site-packages (from tensorboard<2.15,>=2.14->tensorflow-intel==2.14.0->tensorflow) (2.28.1)\n",
      "Requirement already satisfied: werkzeug>=1.0.1 in c:\\users\\wabo914\\appdata\\local\\anaconda3\\lib\\site-packages (from tensorboard<2.15,>=2.14->tensorflow-intel==2.14.0->tensorflow) (2.2.2)\n",
      "Requirement already satisfied: google-auth<3,>=1.6.3 in c:\\users\\wabo914\\appdata\\local\\anaconda3\\lib\\site-packages (from tensorboard<2.15,>=2.14->tensorflow-intel==2.14.0->tensorflow) (2.23.2)\n",
      "Requirement already satisfied: cachetools<6.0,>=2.0.0 in c:\\users\\wabo914\\appdata\\local\\anaconda3\\lib\\site-packages (from google-auth<3,>=1.6.3->tensorboard<2.15,>=2.14->tensorflow-intel==2.14.0->tensorflow) (5.3.1)\n",
      "Requirement already satisfied: pyasn1-modules>=0.2.1 in c:\\users\\wabo914\\appdata\\local\\anaconda3\\lib\\site-packages (from google-auth<3,>=1.6.3->tensorboard<2.15,>=2.14->tensorflow-intel==2.14.0->tensorflow) (0.2.8)\n",
      "Requirement already satisfied: rsa<5,>=3.1.4 in c:\\users\\wabo914\\appdata\\local\\anaconda3\\lib\\site-packages (from google-auth<3,>=1.6.3->tensorboard<2.15,>=2.14->tensorflow-intel==2.14.0->tensorflow) (4.9)\n",
      "Requirement already satisfied: requests-oauthlib>=0.7.0 in c:\\users\\wabo914\\appdata\\local\\anaconda3\\lib\\site-packages (from google-auth-oauthlib<1.1,>=0.5->tensorboard<2.15,>=2.14->tensorflow-intel==2.14.0->tensorflow) (1.3.1)\n",
      "Requirement already satisfied: urllib3<1.27,>=1.21.1 in c:\\users\\wabo914\\appdata\\local\\anaconda3\\lib\\site-packages (from requests<3,>=2.21.0->tensorboard<2.15,>=2.14->tensorflow-intel==2.14.0->tensorflow) (1.26.14)\n",
      "Requirement already satisfied: idna<4,>=2.5 in c:\\users\\wabo914\\appdata\\local\\anaconda3\\lib\\site-packages (from requests<3,>=2.21.0->tensorboard<2.15,>=2.14->tensorflow-intel==2.14.0->tensorflow) (3.4)\n",
      "Requirement already satisfied: certifi>=2017.4.17 in c:\\users\\wabo914\\appdata\\local\\anaconda3\\lib\\site-packages (from requests<3,>=2.21.0->tensorboard<2.15,>=2.14->tensorflow-intel==2.14.0->tensorflow) (2022.12.7)\n",
      "Requirement already satisfied: charset-normalizer<3,>=2 in c:\\users\\wabo914\\appdata\\local\\anaconda3\\lib\\site-packages (from requests<3,>=2.21.0->tensorboard<2.15,>=2.14->tensorflow-intel==2.14.0->tensorflow) (2.0.4)\n",
      "Requirement already satisfied: MarkupSafe>=2.1.1 in c:\\users\\wabo914\\appdata\\local\\anaconda3\\lib\\site-packages (from werkzeug>=1.0.1->tensorboard<2.15,>=2.14->tensorflow-intel==2.14.0->tensorflow) (2.1.1)\n",
      "Requirement already satisfied: pyasn1<0.5.0,>=0.4.6 in c:\\users\\wabo914\\appdata\\local\\anaconda3\\lib\\site-packages (from pyasn1-modules>=0.2.1->google-auth<3,>=1.6.3->tensorboard<2.15,>=2.14->tensorflow-intel==2.14.0->tensorflow) (0.4.8)\n",
      "Requirement already satisfied: oauthlib>=3.0.0 in c:\\users\\wabo914\\appdata\\local\\anaconda3\\lib\\site-packages (from requests-oauthlib>=0.7.0->google-auth-oauthlib<1.1,>=0.5->tensorboard<2.15,>=2.14->tensorflow-intel==2.14.0->tensorflow) (3.2.2)\n"
     ]
    },
    {
     "name": "stdout",
     "output_type": "stream",
     "text": [
      "Requirement already satisfied: sklearn in c:\\users\\wabo914\\appdata\\local\\anaconda3\\lib\\site-packages (0.0.post9)\n",
      "Requirement already satisfied: matplotlib in c:\\users\\wabo914\\appdata\\local\\anaconda3\\lib\\site-packages (3.7.0)\n",
      "Requirement already satisfied: python-dateutil>=2.7 in c:\\users\\wabo914\\appdata\\local\\anaconda3\\lib\\site-packages (from matplotlib) (2.8.2)\n",
      "Requirement already satisfied: cycler>=0.10 in c:\\users\\wabo914\\appdata\\local\\anaconda3\\lib\\site-packages (from matplotlib) (0.11.0)\n",
      "Requirement already satisfied: kiwisolver>=1.0.1 in c:\\users\\wabo914\\appdata\\local\\anaconda3\\lib\\site-packages (from matplotlib) (1.4.4)\n",
      "Requirement already satisfied: pillow>=6.2.0 in c:\\users\\wabo914\\appdata\\local\\anaconda3\\lib\\site-packages (from matplotlib) (9.4.0)\n",
      "Requirement already satisfied: fonttools>=4.22.0 in c:\\users\\wabo914\\appdata\\local\\anaconda3\\lib\\site-packages (from matplotlib) (4.25.0)\n",
      "Requirement already satisfied: contourpy>=1.0.1 in c:\\users\\wabo914\\appdata\\local\\anaconda3\\lib\\site-packages (from matplotlib) (1.0.5)\n",
      "Requirement already satisfied: packaging>=20.0 in c:\\users\\wabo914\\appdata\\local\\anaconda3\\lib\\site-packages (from matplotlib) (22.0)\n",
      "Requirement already satisfied: pyparsing>=2.3.1 in c:\\users\\wabo914\\appdata\\local\\anaconda3\\lib\\site-packages (from matplotlib) (3.0.9)\n",
      "Requirement already satisfied: numpy>=1.20 in c:\\users\\wabo914\\appdata\\local\\anaconda3\\lib\\site-packages (from matplotlib) (1.23.5)\n",
      "Requirement already satisfied: six>=1.5 in c:\\users\\wabo914\\appdata\\local\\anaconda3\\lib\\site-packages (from python-dateutil>=2.7->matplotlib) (1.16.0)\n"
     ]
    }
   ],
   "source": [
    "#Install related model\n",
    "!pip install pandas\n",
    "!pip install tensorflow\n",
    "!pip install sklearn\n",
    "!pip install matplotlib"
   ]
  },
  {
   "cell_type": "markdown",
   "id": "48cd8e3f",
   "metadata": {},
   "source": [
    "## Prepare Input Data for Deep Learning\n",
    "Perform the following steps for preparing data\n",
    "\n",
    "1. Load data into a pandas dataframe\n",
    "2. Convert the dataframe to a numpy array\n",
    "3. Scale the feature dataset\n",
    "4. Use one-hot-encoding for the target variable\n",
    "5. Split into training and test datasets"
   ]
  },
  {
   "cell_type": "code",
   "execution_count": 85,
   "id": "ac3b872f",
   "metadata": {},
   "outputs": [],
   "source": [
    "\n",
    "\n",
    "# import libraries\n",
    "import pandas as pd\n",
    "import os\n",
    "import tensorflow as tf\n",
    "import numpy as np\n",
    "from sklearn.model_selection import train_test_split\n",
    "from sklearn.preprocessing import StandardScaler"
   ]
  },
  {
   "cell_type": "code",
   "execution_count": 86,
   "id": "0e52dce7",
   "metadata": {},
   "outputs": [],
   "source": [
    "#load data\n",
    "df_iris = pd.read_csv(\"iris.csv\")"
   ]
  },
  {
   "cell_type": "code",
   "execution_count": 87,
   "id": "3147a72d",
   "metadata": {},
   "outputs": [
    {
     "data": {
      "text/html": [
       "<div>\n",
       "<style scoped>\n",
       "    .dataframe tbody tr th:only-of-type {\n",
       "        vertical-align: middle;\n",
       "    }\n",
       "\n",
       "    .dataframe tbody tr th {\n",
       "        vertical-align: top;\n",
       "    }\n",
       "\n",
       "    .dataframe thead th {\n",
       "        text-align: right;\n",
       "    }\n",
       "</style>\n",
       "<table border=\"1\" class=\"dataframe\">\n",
       "  <thead>\n",
       "    <tr style=\"text-align: right;\">\n",
       "      <th></th>\n",
       "      <th>Sepal.Length</th>\n",
       "      <th>Sepal.Width</th>\n",
       "      <th>Petal.Length</th>\n",
       "      <th>Petal.Width</th>\n",
       "      <th>Species</th>\n",
       "    </tr>\n",
       "  </thead>\n",
       "  <tbody>\n",
       "    <tr>\n",
       "      <th>0</th>\n",
       "      <td>5.1</td>\n",
       "      <td>3.5</td>\n",
       "      <td>1.4</td>\n",
       "      <td>0.2</td>\n",
       "      <td>setosa</td>\n",
       "    </tr>\n",
       "    <tr>\n",
       "      <th>1</th>\n",
       "      <td>4.9</td>\n",
       "      <td>3.0</td>\n",
       "      <td>1.4</td>\n",
       "      <td>0.2</td>\n",
       "      <td>setosa</td>\n",
       "    </tr>\n",
       "    <tr>\n",
       "      <th>2</th>\n",
       "      <td>4.7</td>\n",
       "      <td>3.2</td>\n",
       "      <td>1.3</td>\n",
       "      <td>0.2</td>\n",
       "      <td>setosa</td>\n",
       "    </tr>\n",
       "    <tr>\n",
       "      <th>3</th>\n",
       "      <td>4.6</td>\n",
       "      <td>3.1</td>\n",
       "      <td>1.5</td>\n",
       "      <td>0.2</td>\n",
       "      <td>setosa</td>\n",
       "    </tr>\n",
       "    <tr>\n",
       "      <th>4</th>\n",
       "      <td>5.0</td>\n",
       "      <td>3.6</td>\n",
       "      <td>1.4</td>\n",
       "      <td>0.2</td>\n",
       "      <td>setosa</td>\n",
       "    </tr>\n",
       "  </tbody>\n",
       "</table>\n",
       "</div>"
      ],
      "text/plain": [
       "   Sepal.Length  Sepal.Width  Petal.Length  Petal.Width Species\n",
       "0           5.1          3.5           1.4          0.2  setosa\n",
       "1           4.9          3.0           1.4          0.2  setosa\n",
       "2           4.7          3.2           1.3          0.2  setosa\n",
       "3           4.6          3.1           1.5          0.2  setosa\n",
       "4           5.0          3.6           1.4          0.2  setosa"
      ]
     },
     "execution_count": 87,
     "metadata": {},
     "output_type": "execute_result"
    }
   ],
   "source": [
    "#explore the data\n",
    "df_iris.head()"
   ]
  },
  {
   "cell_type": "code",
   "execution_count": 88,
   "id": "79ddbe37",
   "metadata": {},
   "outputs": [
    {
     "data": {
      "text/plain": [
       "str"
      ]
     },
     "execution_count": 88,
     "metadata": {},
     "output_type": "execute_result"
    }
   ],
   "source": [
    "type('Species')"
   ]
  },
  {
   "cell_type": "code",
   "execution_count": 89,
   "id": "43576aca",
   "metadata": {},
   "outputs": [],
   "source": [
    "#Convert the 'Species' str type to numeric using a label encoder\n",
    "from sklearn import preprocessing \n",
    "label_encoder = preprocessing.LabelEncoder()\n",
    "df_iris['Species'] = label_encoder.fit_transform(\n",
    "df_iris['Species'])"
   ]
  },
  {
   "cell_type": "code",
   "execution_count": 90,
   "id": "c758a884",
   "metadata": {},
   "outputs": [],
   "source": [
    "# We then convert the input into the Nump array\n",
    "np_iris = df_iris.to_numpy()"
   ]
  },
  {
   "cell_type": "code",
   "execution_count": 91,
   "id": "51d25a59",
   "metadata": {},
   "outputs": [
    {
     "name": "stdout",
     "output_type": "stream",
     "text": [
      "\n",
      "Features before scaling :\n",
      "------\n",
      "[[5.1 3.5 1.4 0.2]\n",
      " [4.9 3.  1.4 0.2]\n",
      " [4.7 3.2 1.3 0.2]\n",
      " [4.6 3.1 1.5 0.2]\n",
      " [5.  3.6 1.4 0.2]]\n",
      "\n",
      "Target before scaling :\n",
      "------\n",
      "[0. 0. 0. 0. 0.]\n"
     ]
    }
   ],
   "source": [
    "#Then seperate feature and target variable\n",
    "X_data = np_iris[:,0:4]\n",
    "Y_data = np_iris[:,4]\n",
    "print(\"\\nFeatures before scaling :\\n------\")\n",
    "print(X_data[:5,:])\n",
    "print(\"\\nTarget before scaling :\\n------\")\n",
    "print(Y_data[:5:])"
   ]
  },
  {
   "cell_type": "code",
   "execution_count": null,
   "id": "0a6e71ab",
   "metadata": {},
   "outputs": [],
   "source": []
  },
  {
   "cell_type": "code",
   "execution_count": 92,
   "id": "974bf930",
   "metadata": {},
   "outputs": [],
   "source": [
    "# creating a scalar model that is fit on the input data\n",
    "scaler = StandardScaler().fit(X_data)"
   ]
  },
  {
   "cell_type": "code",
   "execution_count": 93,
   "id": "a190483b",
   "metadata": {},
   "outputs": [],
   "source": [
    "#Scale the numeric feature variables\n",
    "X_data = scaler.transform(X_data)"
   ]
  },
  {
   "cell_type": "code",
   "execution_count": 94,
   "id": "29d0623d",
   "metadata": {},
   "outputs": [],
   "source": [
    "#Convert target variable as a non-hot-encoding array\n",
    "Y_data = tf.keras.utils.to_categorical(Y_data,3)"
   ]
  },
  {
   "cell_type": "code",
   "execution_count": 95,
   "id": "2e4d15d5",
   "metadata": {},
   "outputs": [
    {
     "name": "stdout",
     "output_type": "stream",
     "text": [
      "\n",
      "Features after scaling: \n",
      "----------\n",
      "[[-0.90068117  1.01900435 -1.34022653 -1.3154443 ]\n",
      " [-1.14301691 -0.13197948 -1.34022653 -1.3154443 ]\n",
      " [-1.38535265  0.32841405 -1.39706395 -1.3154443 ]\n",
      " [-1.50652052  0.09821729 -1.2833891  -1.3154443 ]\n",
      " [-1.02184904  1.24920112 -1.34022653 -1.3154443 ]]\n",
      "\n",
      "Target after one-hot-encoding :\n",
      "--------\n",
      "[[1. 0. 0.]\n",
      " [1. 0. 0.]\n",
      " [1. 0. 0.]\n",
      " [1. 0. 0.]\n",
      " [1. 0. 0.]]\n"
     ]
    }
   ],
   "source": [
    "print(\"\\nFeatures after scaling: \\n----------\")\n",
    "print(X_data[:5,:])\n",
    "print(\"\\nTarget after one-hot-encoding :\\n--------\")\n",
    "print(Y_data[:5])"
   ]
  },
  {
   "cell_type": "code",
   "execution_count": 96,
   "id": "8f2b64f7",
   "metadata": {},
   "outputs": [
    {
     "name": "stdout",
     "output_type": "stream",
     "text": [
      "\n",
      "Train test Dimensions:\n",
      "---------------\n",
      "(135, 4) (135, 3) (15, 4) (15, 3)\n"
     ]
    }
   ],
   "source": [
    "#split training and test data\n",
    "X_train,X_test,Y_train,Y_test = train_test_split( X_data, Y_data, test_size=0.10)\n",
    "print(\"\\nTrain test Dimensions:\\n---------------\")\n",
    "print(X_train.shape, Y_train.shape, X_test.shape, Y_test.shape)"
   ]
  },
  {
   "cell_type": "markdown",
   "id": "dbc84374",
   "metadata": {},
   "source": [
    "## Creating a Model\n",
    "Creating a model in Keras requires defining the following\n",
    "\n",
    "1. Number of hidden layers\n",
    "2. Number of nodes in each layer\n",
    "3. Activation functions\n",
    "4. Loss Function & Accuracy measurements"
   ]
  },
  {
   "cell_type": "code",
   "execution_count": 97,
   "id": "e04b0cc5",
   "metadata": {},
   "outputs": [],
   "source": [
    "from tensorflow import keras"
   ]
  },
  {
   "cell_type": "code",
   "execution_count": 98,
   "id": "14052f8b",
   "metadata": {},
   "outputs": [],
   "source": [
    "# Number of classes in the target variable\n",
    "NB_CLASSES=3"
   ]
  },
  {
   "cell_type": "code",
   "execution_count": 99,
   "id": "7bfb3431",
   "metadata": {},
   "outputs": [],
   "source": [
    "#Create a sequential model in keras\n",
    "model = tf.keras.models.Sequential()"
   ]
  },
  {
   "cell_type": "code",
   "execution_count": 100,
   "id": "af492b2a",
   "metadata": {},
   "outputs": [],
   "source": [
    "#Add the first hidden layer\n",
    "model.add(keras.layers.Dense(128,                  #Number of nodes\n",
    "                            input_shape=(4,),      #Number of input variables\n",
    "                            name='Hidden-layer-1', #Logical name\n",
    "                            activation='relu'))    #activation function"
   ]
  },
  {
   "cell_type": "code",
   "execution_count": 101,
   "id": "0891356b",
   "metadata": {},
   "outputs": [],
   "source": [
    "#Add a second hidden layer\n",
    "model.add(keras.layers.Dense(128,\n",
    "                            name='Hidden-layer-2',\n",
    "                            activation='relu'))"
   ]
  },
  {
   "cell_type": "code",
   "execution_count": 102,
   "id": "a7643785",
   "metadata": {},
   "outputs": [],
   "source": [
    "#Add an output layer with softmax activation\n",
    "model.add(keras.layers.Dense(NB_CLASSES,\n",
    "                            name='Output-Layer',\n",
    "                            activation='softmax'))"
   ]
  },
  {
   "cell_type": "code",
   "execution_count": 103,
   "id": "84ff85ca",
   "metadata": {},
   "outputs": [],
   "source": [
    "#Compile the model with loss & metrics \n",
    "model.compile(loss='categorical_crossentropy', #Since this is multi class classification model\n",
    "             metrics=['accuracy'])       #metric to measure loss"
   ]
  },
  {
   "cell_type": "code",
   "execution_count": 104,
   "id": "847c225a",
   "metadata": {},
   "outputs": [
    {
     "name": "stdout",
     "output_type": "stream",
     "text": [
      "Model: \"sequential_1\"\n",
      "_________________________________________________________________\n",
      " Layer (type)                Output Shape              Param #   \n",
      "=================================================================\n",
      " Hidden-layer-1 (Dense)      (None, 128)               640       \n",
      "                                                                 \n",
      " Hidden-layer-2 (Dense)      (None, 128)               16512     \n",
      "                                                                 \n",
      " Output-Layer (Dense)        (None, 3)                 387       \n",
      "                                                                 \n",
      "=================================================================\n",
      "Total params: 17539 (68.51 KB)\n",
      "Trainable params: 17539 (68.51 KB)\n",
      "Non-trainable params: 0 (0.00 Byte)\n",
      "_________________________________________________________________\n"
     ]
    }
   ],
   "source": [
    "#Print the model meta-data\n",
    "model.summary()"
   ]
  },
  {
   "cell_type": "markdown",
   "id": "019f0117",
   "metadata": {},
   "source": [
    "## Model Training and Evaluation\n",
    "Training the model involves defining various training models and then perform forward and back propagation."
   ]
  },
  {
   "cell_type": "code",
   "execution_count": 105,
   "id": "3f8fcb67",
   "metadata": {},
   "outputs": [],
   "source": [
    "#Make it verbose so we can see the progress\n",
    "VERBOSE=1"
   ]
  },
  {
   "cell_type": "code",
   "execution_count": 106,
   "id": "252fdda2",
   "metadata": {},
   "outputs": [
    {
     "name": "stdout",
     "output_type": "stream",
     "text": [
      "\n",
      "Training Progress:\n",
      "-------------\n"
     ]
    }
   ],
   "source": [
    "#SETUP HYPER PARAMETERS FOR TRAINING\n",
    "#set batch size\n",
    "BATCH_SIZE=16\n",
    "#Set number of epochs\n",
    "EPOCHS=10\n",
    "#Set validation split. 20% of the training data will be used for validation\n",
    "#after each epoch\n",
    "VALIDATION_SPLIT=0.2\n",
    "print(\"\\nTraining Progress:\\n-------------\")"
   ]
  },
  {
   "cell_type": "code",
   "execution_count": 107,
   "id": "aae9449b",
   "metadata": {},
   "outputs": [
    {
     "name": "stdout",
     "output_type": "stream",
     "text": [
      "Epoch 1/10\n",
      "7/7 [==============================] - 1s 44ms/step - loss: 0.8028 - accuracy: 0.7593 - val_loss: 0.5798 - val_accuracy: 0.8519\n",
      "Epoch 2/10\n",
      "7/7 [==============================] - 0s 8ms/step - loss: 0.5298 - accuracy: 0.8241 - val_loss: 0.4695 - val_accuracy: 0.8519\n",
      "Epoch 3/10\n",
      "7/7 [==============================] - 0s 8ms/step - loss: 0.4357 - accuracy: 0.8333 - val_loss: 0.4079 - val_accuracy: 0.8519\n",
      "Epoch 4/10\n",
      "7/7 [==============================] - 0s 8ms/step - loss: 0.3803 - accuracy: 0.8426 - val_loss: 0.3923 - val_accuracy: 0.8519\n",
      "Epoch 5/10\n",
      "7/7 [==============================] - 0s 8ms/step - loss: 0.3357 - accuracy: 0.8704 - val_loss: 0.3958 - val_accuracy: 0.8519\n",
      "Epoch 6/10\n",
      "7/7 [==============================] - 0s 8ms/step - loss: 0.3022 - accuracy: 0.8796 - val_loss: 0.3641 - val_accuracy: 0.8519\n",
      "Epoch 7/10\n",
      "7/7 [==============================] - 0s 8ms/step - loss: 0.2756 - accuracy: 0.8796 - val_loss: 0.3628 - val_accuracy: 0.8519\n",
      "Epoch 8/10\n",
      "7/7 [==============================] - 0s 8ms/step - loss: 0.2477 - accuracy: 0.9167 - val_loss: 0.3735 - val_accuracy: 0.8148\n",
      "Epoch 9/10\n",
      "7/7 [==============================] - 0s 8ms/step - loss: 0.2289 - accuracy: 0.9259 - val_loss: 0.3503 - val_accuracy: 0.8148\n",
      "Epoch 10/10\n",
      "7/7 [==============================] - 0s 8ms/step - loss: 0.2098 - accuracy: 0.9259 - val_loss: 0.3398 - val_accuracy: 0.8519\n",
      "\n",
      "accuracy during Training :\n",
      "------------\n"
     ]
    }
   ],
   "source": [
    "##Fit the model. This will perform the entire training cycle, including\n",
    "#forward propagation, loss computation, backward propagation and gradient descent.\n",
    "#Execute for the specified batch sizes and epoch\n",
    "#Perform validation after each epoch\n",
    "history=model.fit(X_train,\n",
    "                Y_train,\n",
    "                batch_size=BATCH_SIZE,\n",
    "                epochs=EPOCHS,\n",
    "                verbose=VERBOSE,\n",
    "                validation_split=VALIDATION_SPLIT)\n",
    "print(\"\\naccuracy during Training :\\n------------\")\n"
   ]
  },
  {
   "cell_type": "code",
   "execution_count": 108,
   "id": "52fce42e",
   "metadata": {},
   "outputs": [
    {
     "data": {
      "image/png": "[encoded data removed]",
      "text/plain": [
       "<Figure size 800x500 with 1 Axes>"
      ]
     },
     "metadata": {},
     "output_type": "display_data"
    }
   ],
   "source": [
    "import matplotlib.pyplot as plt\n",
    "#Plot accuracy of the model after each epoch\n",
    "pd.DataFrame(history.history)[\"accuracy\"].plot(figsize=(8,5))\n",
    "plt.title('Accuracy Improvement with Epoch')\n",
    "plt.show()\n"
   ]
  },
  {
   "cell_type": "code",
   "execution_count": 109,
   "id": "f416a480",
   "metadata": {},
   "outputs": [
    {
     "name": "stdout",
     "output_type": "stream",
     "text": [
      "\n",
      "Evaluation against Test Dataset :n\\------------------\n",
      "1/1 [==============================] - 0s 28ms/step - loss: 0.2417 - accuracy: 1.0000\n"
     ]
    },
    {
     "data": {
      "text/plain": [
       "[0.24167579412460327, 1.0]"
      ]
     },
     "execution_count": 109,
     "metadata": {},
     "output_type": "execute_result"
    }
   ],
   "source": [
    "#Evaluate the model against the test dataset and print results\n",
    "print(\"\\nEvaluation against Test Dataset :n\\------------------\")\n",
    "model.evaluate(X_test, Y_test)"
   ]
  },
  {
   "cell_type": "markdown",
   "id": "20d97e7b",
   "metadata": {},
   "source": [
    "### Saving and Loading models\n",
    "The training and inference environments are usually separate. Models need to be saved after they are validated. They are then loaded into the inference environments for actual prediction"
   ]
  },
  {
   "cell_type": "code",
   "execution_count": 111,
   "id": "71c0f46a",
   "metadata": {},
   "outputs": [
    {
     "name": "stderr",
     "output_type": "stream",
     "text": [
      "WARNING:absl:`Hidden-layer-1_input` is not a valid tf.function parameter name. Sanitizing to `Hidden_layer_1_input`.\n",
      "WARNING:absl:`Hidden-layer-1_input` is not a valid tf.function parameter name. Sanitizing to `Hidden_layer_1_input`.\n"
     ]
    },
    {
     "name": "stdout",
     "output_type": "stream",
     "text": [
      "INFO:tensorflow:Assets written to: iris.save\\assets\n"
     ]
    },
    {
     "name": "stderr",
     "output_type": "stream",
     "text": [
      "INFO:tensorflow:Assets written to: iris.save\\assets\n"
     ]
    }
   ],
   "source": [
    "#Saving a model\n",
    "model.save(\"iris.save\")"
   ]
  },
  {
   "cell_type": "code",
   "execution_count": 116,
   "id": "21cc387b",
   "metadata": {},
   "outputs": [],
   "source": [
    "#Loading a model\n",
    "loaded_model = keras.models.load_model('iris.save')"
   ]
  },
  {
   "cell_type": "code",
   "execution_count": 117,
   "id": "aabdbfa3",
   "metadata": {},
   "outputs": [
    {
     "name": "stdout",
     "output_type": "stream",
     "text": [
      "Model: \"sequential_1\"\n",
      "_________________________________________________________________\n",
      " Layer (type)                Output Shape              Param #   \n",
      "=================================================================\n",
      " Hidden-layer-1 (Dense)      (None, 128)               640       \n",
      "                                                                 \n",
      " Hidden-layer-2 (Dense)      (None, 128)               16512     \n",
      "                                                                 \n",
      " Output-Layer (Dense)        (None, 3)                 387       \n",
      "                                                                 \n",
      "=================================================================\n",
      "Total params: 17539 (68.51 KB)\n",
      "Trainable params: 17539 (68.51 KB)\n",
      "Non-trainable params: 0 (0.00 Byte)\n",
      "_________________________________________________________________\n"
     ]
    }
   ],
   "source": [
    "#print model summary\n",
    "loaded_model.summary()"
   ]
  },
  {
   "cell_type": "markdown",
   "id": "19103a02",
   "metadata": {},
   "source": [
    "### Predictions with Deep Learning Models"
   ]
  },
  {
   "cell_type": "code",
   "execution_count": 119,
   "id": "a1245e62",
   "metadata": {},
   "outputs": [],
   "source": [
    "#Raw prediction data\n",
    "prediction_input = [[6.6, 3. , 4.4, 1.4]]"
   ]
  },
  {
   "cell_type": "code",
   "execution_count": 121,
   "id": "4d62f08c",
   "metadata": {},
   "outputs": [],
   "source": [
    "#Scale prediction data with the same scaling model\n",
    "scaled_input = scaler.transform(prediction_input)"
   ]
  },
  {
   "cell_type": "code",
   "execution_count": 123,
   "id": "4ecfd48a",
   "metadata": {},
   "outputs": [
    {
     "name": "stdout",
     "output_type": "stream",
     "text": [
      "1/1 [==============================] - 0s 23ms/step\n",
      "Raw Prediction Output (Probabilities) : [[0.01587509 0.62799895 0.35612598]]\n"
     ]
    }
   ],
   "source": [
    "#Get raw prediction probabilities\n",
    "raw_prediction = model.predict(scaled_input)\n",
    "print(\"Raw Prediction Output (Probabilities) :\" , raw_prediction)"
   ]
  },
  {
   "cell_type": "code",
   "execution_count": 124,
   "id": "f4caff82",
   "metadata": {},
   "outputs": [
    {
     "name": "stdout",
     "output_type": "stream",
     "text": [
      "Prediction is  ['versicolor']\n"
     ]
    }
   ],
   "source": [
    "#Find prediction\n",
    "prediction = np.argmax(raw_prediction)\n",
    "print(\"Prediction is \", label_encoder.inverse_transform([prediction]))"
   ]
  },
  {
   "cell_type": "code",
   "execution_count": null,
   "id": "66b04604",
   "metadata": {},
   "outputs": [],
   "source": []
  },
  {
   "cell_type": "code",
   "execution_count": null,
   "id": "0a0c35c1",
   "metadata": {},
   "outputs": [],
   "source": []
  }
 ],
 "metadata": {
  "kernelspec": {
   "display_name": "Python 3 (ipykernel)",
   "language": "python",
   "name": "python3"
  },
  "language_info": {
   "codemirror_mode": {
    "name": "ipython",
    "version": 3
   },
   "file_extension": ".py",
   "mimetype": "text/x-python",
   "name": "python",
   "nbconvert_exporter": "python",
   "pygments_lexer": "ipython3",
   "version": "3.10.9"
  }
 },
 "nbformat": 4,
 "nbformat_minor": 5
}
